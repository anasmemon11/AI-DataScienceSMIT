{
 "cells": [
  {
   "cell_type": "code",
   "execution_count": 1,
   "id": "71dbb7e1-9413-4b7f-97f4-d8b7997e476b",
   "metadata": {},
   "outputs": [],
   "source": [
    "import numpy as np"
   ]
  },
  {
   "cell_type": "markdown",
   "id": "a11f6f88-6fa8-4e6b-88a1-85b0ddef2163",
   "metadata": {},
   "source": [
    "<h1>TASK 01</h1>"
   ]
  },
  {
   "cell_type": "code",
   "execution_count": 2,
   "id": "601a345e-47c1-40f7-87bb-4d25bfe9f580",
   "metadata": {},
   "outputs": [
    {
     "name": "stdout",
     "output_type": "stream",
     "text": [
      "Maximum Temperature in City A is : 32\n",
      "Maximum Temperature across all cities is on : Tue\n",
      "City A is Warmer\n"
     ]
    }
   ],
   "source": [
    "Cities = np.array([[30,32,31,29,28,27,26],\n",
    "                   [22,21,23,24,25,26,24],\n",
    "                   [15,17,16,18,19,20,21]])\n",
    "\n",
    "Days = np.array([\"Mon\", \"Tue\", \"Wed\", \"Thurs\", \"Fri\", \"Sat\", \"Sun\"])\n",
    "CityNames = np.array([\"City A\", \"City B\", \"City C\"])\n",
    "\n",
    "max_temp = Cities.argmax()\n",
    "max_cityA = Cities[0].max()\n",
    "\n",
    "CityA = Cities[0].mean()\n",
    "CityB = Cities[1].mean()\n",
    "\n",
    "Max_Temp_Day = Days[max_temp]\n",
    "\n",
    "\n",
    "print(f\"Maximum Temperature in City A is : {max_cityA}\")\n",
    "print(f\"Maximum Temperature across all cities is on : {Max_Temp_Day}\")\n",
    "\n",
    "\n",
    "if CityA > CityB:\n",
    "    print(f\"City A is Warmer\")\n",
    "else:\n",
    "    print(f\"City B is Warmer\")"
   ]
  },
  {
   "cell_type": "markdown",
   "id": "d32e5d7d-c76f-4b36-93ed-6e138deafd2d",
   "metadata": {},
   "source": [
    "<h1>TASK 02\n",
    "</h1>"
   ]
  },
  {
   "cell_type": "code",
   "execution_count": 5,
   "id": "daaa9fb9-98be-4c57-a30f-887fbcd6fdcd",
   "metadata": {},
   "outputs": [],
   "source": [
    "Student_data = {\"std-1\": {\"Maths\" : 85,\"Urdu\" : 70,\"Sindhi\" : 40,\"Chemistry\" : 65,\"Physics\" : 80},\n",
    "               \"std-2\" : {\"Maths\" : 70,\"Urdu\" : 75,\"Sindhi\" : 40,\"Chemistry\" : 90,\"Physics\" : 50},\n",
    "               \"std-3\" : {\"Maths\" : 80,\"Urdu\" : 70,\"Sindhi\" : 95,\"Chemistry\" : 70,\"Physics\" : 60},\n",
    "               \"std-4\" : {\"Maths\" : 80,\"Urdu\" : 70,\"Sindhi\" : 50,\"Chemistry\" : 85,\"Physics\" : 90},\n",
    "               \"std-5\" : {\"Maths\" : 80,\"Urdu\" : 75,\"Sindhi\" : 40,\"Chemistry\" : 90,\"Physics\" : 70}}"
   ]
  },
  {
   "cell_type": "code",
   "execution_count": 6,
   "id": "799d59df-ade3-4709-93ac-342b6714de14",
   "metadata": {},
   "outputs": [
    {
     "name": "stdout",
     "output_type": "stream",
     "text": [
      "Rank: 4\n",
      "Student Id: std-1\n",
      "Subjects: Maths\n",
      "Max Marks: 85\n",
      "**********\n",
      "Rank: 5\n",
      "Student Id: std-2\n",
      "Subjects: Chemistry\n",
      "Max Marks: 90\n",
      "**********\n",
      "Rank: 2\n",
      "Student Id: std-3\n",
      "Subjects: Sindhi\n",
      "Max Marks: 95\n",
      "**********\n",
      "Rank: 1\n",
      "Student Id: std-4\n",
      "Subjects: Physics\n",
      "Max Marks: 90\n",
      "**********\n",
      "Rank: 3\n",
      "Student Id: std-5\n",
      "Subjects: Chemistry\n",
      "Max Marks: 90\n",
      "**********\n"
     ]
    }
   ],
   "source": [
    "student_array = np.array([list(marks.values()) for marks in Student_data.values()])\n",
    "student_ids = np.array([ids for ids in Student_data])\n",
    "subjects = np.array([list(subjects.keys()) for subjects in Student_data.values()][0])\n",
    "total_marks = student_array.sum(axis=1)\n",
    "ranking = total_marks.argsort()[::-1]\n",
    "max_sub_std = student_array.argmax(axis = 1)\n",
    "\n",
    "for index, student in enumerate(student_array):\n",
    "    for R_index, rank in enumerate(ranking):\n",
    "        if rank == index:\n",
    "            print(f\"Rank: {R_index+1}\")\n",
    "            print(f\"Student Id: {student_ids[index]}\")\n",
    "            max_sub = max_sub_std[index]\n",
    "            print(f\"Subjects: {subjects[max_sub]}\\nMax Marks: {student[max_sub]}\")\n",
    "            print(\"*\"*10)\n",
    "    "
   ]
  },
  {
   "cell_type": "code",
   "execution_count": null,
   "id": "6644aa07-b8ac-415a-9aad-44b9f75bbb7f",
   "metadata": {},
   "outputs": [],
   "source": []
  }
 ],
 "metadata": {
  "kernelspec": {
   "display_name": "Python 3 (ipykernel)",
   "language": "python",
   "name": "python3"
  },
  "language_info": {
   "codemirror_mode": {
    "name": "ipython",
    "version": 3
   },
   "file_extension": ".py",
   "mimetype": "text/x-python",
   "name": "python",
   "nbconvert_exporter": "python",
   "pygments_lexer": "ipython3",
   "version": "3.13.3"
  }
 },
 "nbformat": 4,
 "nbformat_minor": 5
}
